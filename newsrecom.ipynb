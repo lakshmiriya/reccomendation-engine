{
 "cells": [
  {
   "cell_type": "markdown",
   "metadata": {},
   "source": [
    "#                  CONTENT BASED FILTERING USING NEWS DATASET"
   ]
  },
  {
   "cell_type": "markdown",
   "metadata": {},
   "source": [
    "##                         IMPORTING THE NECESSARY LIBRARIES"
   ]
  },
  {
   "cell_type": "code",
   "execution_count": 2,
   "metadata": {},
   "outputs": [],
   "source": [
    "import pandas as pd\n",
    "from sklearn.feature_extraction.text import TfidfVectorizer\n",
    "from sklearn.metrics.pairwise import linear_kernel \n",
    "ds = pd.read_csv(\"newsdata.csv\")"
   ]
  },
  {
   "cell_type": "code",
   "execution_count": 3,
   "metadata": {},
   "outputs": [
    {
     "data": {
      "text/html": [
       "<div>\n",
       "<style scoped>\n",
       "    .dataframe tbody tr th:only-of-type {\n",
       "        vertical-align: middle;\n",
       "    }\n",
       "\n",
       "    .dataframe tbody tr th {\n",
       "        vertical-align: top;\n",
       "    }\n",
       "\n",
       "    .dataframe thead th {\n",
       "        text-align: right;\n",
       "    }\n",
       "</style>\n",
       "<table border=\"1\" class=\"dataframe\">\n",
       "  <thead>\n",
       "    <tr style=\"text-align: right;\">\n",
       "      <th></th>\n",
       "      <th>ID</th>\n",
       "      <th>category</th>\n",
       "      <th>description</th>\n",
       "    </tr>\n",
       "  </thead>\n",
       "  <tbody>\n",
       "    <tr>\n",
       "      <th>0</th>\n",
       "      <td>0</td>\n",
       "      <td>DIVORCE</td>\n",
       "      <td>Prince William Marriage: New Biography Claims ...</td>\n",
       "    </tr>\n",
       "    <tr>\n",
       "      <th>1</th>\n",
       "      <td>1</td>\n",
       "      <td>WELLNESS</td>\n",
       "      <td>WATCH: Exclusive Becoming Fearless Video Series</td>\n",
       "    </tr>\n",
       "    <tr>\n",
       "      <th>2</th>\n",
       "      <td>2</td>\n",
       "      <td>WELLNESS</td>\n",
       "      <td>15 Things You Should Give Up To Be Happy</td>\n",
       "    </tr>\n",
       "    <tr>\n",
       "      <th>3</th>\n",
       "      <td>3</td>\n",
       "      <td>WELLNESS</td>\n",
       "      <td>Lana Kuykendall\\, Mom With Flesh-Eating Diseas...</td>\n",
       "    </tr>\n",
       "    <tr>\n",
       "      <th>4</th>\n",
       "      <td>4</td>\n",
       "      <td>TRAVEL</td>\n",
       "      <td>Airbus A320 To Offer Extra-Wide Seats For Amer...</td>\n",
       "    </tr>\n",
       "    <tr>\n",
       "      <th>...</th>\n",
       "      <td>...</td>\n",
       "      <td>...</td>\n",
       "      <td>...</td>\n",
       "    </tr>\n",
       "    <tr>\n",
       "      <th>10844</th>\n",
       "      <td>10844</td>\n",
       "      <td>TECH</td>\n",
       "      <td>RIM CEO Thorsten Heins' 'Significant' Plans Fo...</td>\n",
       "    </tr>\n",
       "    <tr>\n",
       "      <th>10845</th>\n",
       "      <td>10845</td>\n",
       "      <td>SPORTS</td>\n",
       "      <td>Maria Sharapova Stunned By Victoria Azarenka I...</td>\n",
       "    </tr>\n",
       "    <tr>\n",
       "      <th>10846</th>\n",
       "      <td>10846</td>\n",
       "      <td>SPORTS</td>\n",
       "      <td>Giants Over Patriots\\, Jets Over Colts Among  ...</td>\n",
       "    </tr>\n",
       "    <tr>\n",
       "      <th>10847</th>\n",
       "      <td>10847</td>\n",
       "      <td>SPORTS</td>\n",
       "      <td>Aldon Smith Arrested: 49ers Linebacker Busted ...</td>\n",
       "    </tr>\n",
       "    <tr>\n",
       "      <th>10848</th>\n",
       "      <td>10848</td>\n",
       "      <td>SPORTS</td>\n",
       "      <td>Dwight Howard Rips Teammates After Magic Loss ...</td>\n",
       "    </tr>\n",
       "  </tbody>\n",
       "</table>\n",
       "<p>10849 rows × 3 columns</p>\n",
       "</div>"
      ],
      "text/plain": [
       "          ID  category                                        description\n",
       "0          0   DIVORCE  Prince William Marriage: New Biography Claims ...\n",
       "1          1  WELLNESS    WATCH: Exclusive Becoming Fearless Video Series\n",
       "2          2  WELLNESS           15 Things You Should Give Up To Be Happy\n",
       "3          3  WELLNESS  Lana Kuykendall\\, Mom With Flesh-Eating Diseas...\n",
       "4          4    TRAVEL  Airbus A320 To Offer Extra-Wide Seats For Amer...\n",
       "...      ...       ...                                                ...\n",
       "10844  10844      TECH  RIM CEO Thorsten Heins' 'Significant' Plans Fo...\n",
       "10845  10845    SPORTS  Maria Sharapova Stunned By Victoria Azarenka I...\n",
       "10846  10846    SPORTS  Giants Over Patriots\\, Jets Over Colts Among  ...\n",
       "10847  10847    SPORTS  Aldon Smith Arrested: 49ers Linebacker Busted ...\n",
       "10848  10848    SPORTS  Dwight Howard Rips Teammates After Magic Loss ...\n",
       "\n",
       "[10849 rows x 3 columns]"
      ]
     },
     "execution_count": 3,
     "metadata": {},
     "output_type": "execute_result"
    }
   ],
   "source": [
    "ds"
   ]
  },
  {
   "cell_type": "markdown",
   "metadata": {},
   "source": [
    "# TF-IDF VECTORIZER(Term Frequency-Inverse Document FRequency)(for converting strings into vectors to extract features)\n",
    "\n",
    "\n",
    "### TF=No.of time the term appears in the document/Total no.of terms in the document\n",
    "### IDF=loge(Total no.of documents/number of documents with term in it)\n",
    "### score=TF*IDF\n"
   ]
  },
  {
   "cell_type": "code",
   "execution_count": 4,
   "metadata": {},
   "outputs": [],
   "source": [
    "tf = TfidfVectorizer(analyzer='word', ngram_range=(1, 3), min_df=0, stop_words='english')\n",
    "tfidf_matrix = tf.fit_transform(ds['description'])"
   ]
  },
  {
   "cell_type": "markdown",
   "metadata": {},
   "source": [
    "# COSINE SIMILARITY\n",
    "### (To Calculate the similarity among one datapoint and the other)(In simple terms,similarity between two vectors)\n",
    "### The need of using cosine similarity here is it gives more similarity as angle between the vectors decreases"
   ]
  },
  {
   "cell_type": "code",
   "execution_count": 5,
   "metadata": {},
   "outputs": [],
   "source": [
    "cosine_similarities = linear_kernel(tfidf_matrix, tfidf_matrix) \n",
    "results = {}\n",
    "for idx, row in ds.iterrows():\n",
    "    similar_indices = cosine_similarities[idx].argsort()[:-100:-1] \n",
    "    similar_items = [(cosine_similarities[idx][i], ds['ID'][i]) for i in similar_indices] \n",
    "    results[row['ID']] = similar_items[1:]"
   ]
  },
  {
   "cell_type": "code",
   "execution_count": 6,
   "metadata": {},
   "outputs": [],
   "source": [
    "def item(ID):\n",
    "    return ds.loc[ds['ID'] == ID]['description'].tolist()[0].split(' - ')[0] \n",
    "# Just reads the results out of the dictionary.def \n",
    "def recommend(category, num):\n",
    "    #print(\"Recommending \" + str(num) + \" products similar to \" + item(category) + \"...\")   \n",
    "    #print(\"-------\")    \n",
    "    recs = results[category][:num]   \n",
    "    for rec in recs: \n",
    "        print(\"Recommended: \" + item(rec[1]) + \" (score:\" +      str(rec[0]) + \")\")\n"
   ]
  },
  {
   "cell_type": "markdown",
   "metadata": {},
   "source": [
    "### Here category is the input and the num is number of recommendations"
   ]
  },
  {
   "cell_type": "code",
   "execution_count": 46,
   "metadata": {},
   "outputs": [
    {
     "name": "stdout",
     "output_type": "stream",
     "text": [
      "Recommended: WATCH: Becoming Fearless About Money (score:0.16475115317345368)\n",
      "Recommended: WATCH: Becoming Fearless About Relationships (score:0.1613653360707772)\n",
      "Recommended: INET Video Series: Re-Examining Research on Financial Economics (score:0.1353716007546778)\n",
      "Recommended: What's Your 'Fearless Charm'? (score:0.12557043023167025)\n",
      "Recommended: LISTEN: Your Fearless Playlist -- Be Fearless In Love! (score:0.12049591513144521)\n"
     ]
    }
   ],
   "source": [
    "recommend(category=1, num=5)\n",
    "    "
   ]
  },
  {
   "cell_type": "markdown",
   "metadata": {},
   "source": [
    "## Reference Link:https://heartbeat.fritz.ai/recommender-systems-with-python-part-i-content-based-filtering-5df4940bd831\n",
    "\n",
    "### Dataset link:https://www.kaggle.com/rmisra/news-category-dataset#News_Category_Dataset_v2.json\n"
   ]
  }
 ],
 "metadata": {
  "kernelspec": {
   "display_name": "Python 3",
   "language": "python",
   "name": "python3"
  },
  "language_info": {
   "codemirror_mode": {
    "name": "ipython",
    "version": 3
   },
   "file_extension": ".py",
   "mimetype": "text/x-python",
   "name": "python",
   "nbconvert_exporter": "python",
   "pygments_lexer": "ipython3",
   "version": "3.7.1"
  }
 },
 "nbformat": 4,
 "nbformat_minor": 2
}
